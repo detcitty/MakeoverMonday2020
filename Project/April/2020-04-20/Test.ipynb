{
 "cells": [
  {
   "cell_type": "code",
   "execution_count": 6,
   "metadata": {},
   "outputs": [],
   "source": [
    "import datadotworld as dw\n",
    "import pandas as pd\n",
    "import seaborn as sns"
   ]
  },
  {
   "cell_type": "code",
   "execution_count": 7,
   "metadata": {},
   "outputs": [
    {
     "name": "stdout",
     "output_type": "stream",
     "text": [
      "{'ghg_emissions_by_life_cycle_stage_ourworldindata_upload': LazyLoadedValue(<pandas.DataFrame>)}\n"
     ]
    }
   ],
   "source": [
    "ds = dw.load_dataset('makeovermonday/2020w16', auto_update=True)\n",
    "print(ds.dataframes)"
   ]
  },
  {
   "cell_type": "code",
   "execution_count": 8,
   "metadata": {},
   "outputs": [],
   "source": [
    "#print(ds)\n",
    "#print(ds.describe())"
   ]
  },
  {
   "cell_type": "code",
   "execution_count": 9,
   "metadata": {},
   "outputs": [],
   "source": [
    "data = ds.tables['ghg_emissions_by_life_cycle_stage_ourworldindata_upload']\n",
    "df = pd.DataFrame(data)"
   ]
  },
  {
   "cell_type": "code",
   "execution_count": 10,
   "metadata": {},
   "outputs": [
    {
     "name": "stdout",
     "output_type": "stream",
     "text": [
      "           food_product land_use_change animal_feed  farm processing  \\\n",
      "0   Wheat & Rye (Bread)             0.1         0.0   0.8        0.2   \n",
      "1          Maize (Meal)             0.3         0.0   0.5        0.1   \n",
      "2         Barley (Beer)             0.0         0.0   0.2        0.1   \n",
      "3               Oatmeal             0.0         0.0   1.4        0.0   \n",
      "4                  Rice             0.0         0.0   3.6        0.1   \n",
      "5              Potatoes             0.0         0.0   0.2        0.0   \n",
      "6               Cassava             0.6         0.0   0.2        0.0   \n",
      "7            Cane Sugar             1.2         0.0   0.5        0.0   \n",
      "8            Beet Sugar             0.0         0.0   0.5        0.2   \n",
      "9          Other Pulses             0.0         0.0   1.1        0.0   \n",
      "10                 Peas             0.0         0.0   0.7        0.0   \n",
      "11                 Nuts            -2.1         0.0   2.1        0.0   \n",
      "12           Groundnuts             0.4         0.0   1.4        0.4   \n",
      "13              Soymilk             0.2         0.0   0.1        0.2   \n",
      "14                 Tofu             1.0         0.0   0.5        0.8   \n",
      "15          Soybean Oil             3.1         0.0   1.5        0.3   \n",
      "16             Palm Oil             3.1         0.0   2.1        1.3   \n",
      "17        Sunflower Oil             0.1         0.0   2.1        0.2   \n",
      "18         Rapeseed Oil             0.2         0.0   2.3        0.2   \n",
      "19            Olive Oil            -0.4         0.0   4.3        0.7   \n",
      "20             Tomatoes             0.4         0.0   0.7        0.0   \n",
      "21       Onions & Leeks             0.0         0.0   0.2        0.0   \n",
      "22      Root Vegetables             0.0         0.0   0.2        0.0   \n",
      "23            Brassicas             0.0         0.0   0.3        0.0   \n",
      "24     Other Vegetables             0.0         0.0   0.2        0.1   \n",
      "25         Citrus Fruit            -0.1         0.0   0.3        0.0   \n",
      "26              Bananas             0.0         0.0   0.3        0.1   \n",
      "27               Apples             0.0         0.0   0.2        0.0   \n",
      "28     Berries & Grapes             0.0         0.0   0.7        0.0   \n",
      "29                 Wine            -0.1         0.0   0.6        0.1   \n",
      "30          Other Fruit             0.1         0.0   0.4        0.0   \n",
      "31               Coffee             3.7         0.0  10.4        0.6   \n",
      "32       Dark Chocolate            14.3         0.0   3.7        0.2   \n",
      "33     Beef (beef herd)            16.3         1.9  39.4        1.3   \n",
      "34    Beef (dairy herd)             0.9         2.5  15.7        1.1   \n",
      "35        Lamb & Mutton             0.5         2.4  19.5        1.1   \n",
      "36             Pig Meat             1.5         2.9   1.7        0.3   \n",
      "37         Poultry Meat             2.5         1.8   0.7        0.4   \n",
      "38                 Milk             0.5         0.2   1.5        0.1   \n",
      "39               Cheese             4.5         2.3  13.1        0.7   \n",
      "40                 Eggs             0.7         2.2   1.3        0.0   \n",
      "41        Fish (farmed)             0.5         0.8   3.6        0.0   \n",
      "42     Shrimps (farmed)             0.2         2.5   8.4        0.0   \n",
      "\n",
      "   transport packging retail  \n",
      "0        0.1      0.1    0.1  \n",
      "1        0.1      0.1    0.0  \n",
      "2        0.0      0.5    0.3  \n",
      "3        0.1      0.1    0.0  \n",
      "4        0.1      0.1    0.1  \n",
      "5        0.1      0.0    0.0  \n",
      "6        0.1      0.0    0.0  \n",
      "7        0.8      0.1    0.0  \n",
      "8        0.6      0.1    0.0  \n",
      "9        0.1      0.4    0.0  \n",
      "10       0.1      0.0    0.0  \n",
      "11       0.1      0.1    0.0  \n",
      "12       0.1      0.1    0.0  \n",
      "13       0.1      0.1    0.3  \n",
      "14       0.2      0.2    0.3  \n",
      "15       0.3      0.8    0.0  \n",
      "16       0.2      0.9    0.0  \n",
      "17       0.2      0.9    0.0  \n",
      "18       0.2      0.8    0.0  \n",
      "19       0.5      0.9    0.0  \n",
      "20       0.2      0.1    0.0  \n",
      "21       0.1      0.0    0.0  \n",
      "22       0.1      0.0    0.0  \n",
      "23       0.1      0.0    0.0  \n",
      "24       0.2      0.0    0.0  \n",
      "25       0.1      0.0    0.0  \n",
      "26       0.3      0.1    0.0  \n",
      "27       0.1      0.0    0.0  \n",
      "28       0.2      0.2    0.0  \n",
      "29       0.1      0.7    0.0  \n",
      "30       0.2      0.0    0.0  \n",
      "31       0.1      1.6    0.1  \n",
      "32       0.1      0.4    0.0  \n",
      "33       0.3      0.2    0.2  \n",
      "34       0.4      0.3    0.2  \n",
      "35       0.5      0.3    0.2  \n",
      "36       0.3      0.3    0.2  \n",
      "37       0.3      0.2    0.2  \n",
      "38       0.1      0.1    0.3  \n",
      "39       0.1      0.2    0.3  \n",
      "40       0.1      0.2    0.0  \n",
      "41       0.1      0.1    0.0  \n",
      "42       0.2      0.3    0.2  \n"
     ]
    }
   ],
   "source": [
    "print(df)\n",
    "#print(data)"
   ]
  },
  {
   "cell_type": "code",
   "execution_count": null,
   "metadata": {},
   "outputs": [],
   "source": [
    "sns.pairplot(data=df)"
   ]
  },
  {
   "cell_type": "code",
   "execution_count": null,
   "metadata": {},
   "outputs": [],
   "source": []
  }
 ],
 "metadata": {
  "kernelspec": {
   "display_name": "Python 3",
   "language": "python",
   "name": "python3"
  },
  "language_info": {
   "codemirror_mode": {
    "name": "ipython",
    "version": 3
   },
   "file_extension": ".py",
   "mimetype": "text/x-python",
   "name": "python",
   "nbconvert_exporter": "python",
   "pygments_lexer": "ipython3",
   "version": "3.6.10"
  }
 },
 "nbformat": 4,
 "nbformat_minor": 4
}
